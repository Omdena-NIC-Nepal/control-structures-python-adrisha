{
 "cells": [
  {
   "cell_type": "markdown",
   "id": "6a64ba01-fd18-44ae-bd82-d9f069000a5e",
   "metadata": {},
   "source": [
    "### Task 1"
   ]
  },
  {
   "cell_type": "code",
   "execution_count": 3,
   "id": "21f0e2ab-3974-4f55-8b0d-4e33ae3be858",
   "metadata": {},
   "outputs": [],
   "source": [
    "# Task 1: while loop\n",
    "def while_loop():\n",
    "    number = 0\n",
    "    while number <= 20:\n",
    "        if number % 2 == 0:\n",
    "            print(number)\n",
    "        if number == 16: \n",
    "            break\n",
    "        number += 1"
   ]
  },
  {
   "cell_type": "markdown",
   "id": "f545f956-5414-4758-b0af-4d9c98213d94",
   "metadata": {},
   "source": [
    "### Task 2"
   ]
  },
  {
   "cell_type": "code",
   "execution_count": 10,
   "id": "015699ea-2113-4be0-a3b3-583295833047",
   "metadata": {},
   "outputs": [
    {
     "name": "stdout",
     "output_type": "stream",
     "text": [
      "1\n",
      "2\n",
      "4\n",
      "5\n",
      "7\n",
      "8\n",
      "10\n",
      "11\n",
      "13\n",
      "14\n"
     ]
    }
   ],
   "source": [
    "# Iterate through numbers from 1 to 15\n",
    "for num in range(1, 16):  # range(1, 16) generates numbers from 1 to 15\n",
    "    if num % 3 == 0:  # Check if the number is divisible by 3\n",
    "        continue  # Skip the current iteration\n",
    "    print(num)  # Print the number if it is not divisible by 3"
   ]
  },
  {
   "cell_type": "markdown",
   "id": "0c9f62d3-e6b4-41e2-887e-c24a2c115287",
   "metadata": {},
   "source": [
    "### Task 3"
   ]
  },
  {
   "cell_type": "code",
   "execution_count": 13,
   "id": "f8b823d8-0993-41c6-93f2-5238521a8bb6",
   "metadata": {},
   "outputs": [],
   "source": [
    "# Task 3: if-else statement\n",
    "def number_classification():\n",
    "    number = int(input(\"Enter a number: \"))\n",
    "    if number == 0:\n",
    "        print(\"zero\")\n",
    "    elif number < 0:\n",
    "        print(\"negative\")\n",
    "    else:\n",
    "        print(\"positive\")"
   ]
  },
  {
   "cell_type": "markdown",
   "id": "f82cfb5d-ffa5-4f5d-aaa8-f9cc65ec533c",
   "metadata": {},
   "source": [
    "### Task 4"
   ]
  },
  {
   "cell_type": "code",
   "execution_count": 18,
   "id": "fe602414-5ae2-412b-8c4b-0118d5b0fde7",
   "metadata": {},
   "outputs": [
    {
     "name": "stdout",
     "output_type": "stream",
     "text": [
      "1 x 1 = 1\t1 x 2 = 2\t1 x 3 = 3\t1 x 4 = 4\t1 x 5 = 5\t\n",
      "2 x 1 = 2\t2 x 2 = 4\t2 x 3 = 6\t2 x 4 = 8\t2 x 5 = 10\t\n",
      "3 x 1 = 3\t3 x 2 = 6\t3 x 3 = 9\t3 x 4 = 12\t3 x 5 = 15\t\n",
      "4 x 1 = 4\t4 x 2 = 8\t4 x 3 = 12\t4 x 4 = 16\t4 x 5 = 20\t\n",
      "5 x 1 = 5\t5 x 2 = 10\t5 x 3 = 15\t5 x 4 = 20\t5 x 5 = 25\t\n"
     ]
    }
   ],
   "source": [
    "# Task 4: Nested loops\n",
    "for i in range(1, 6):\n",
    "    for j in range(1, 6):\n",
    "        # Print the product of i and j, formatted to align the table\n",
    "        print(f\"{i} x {j} = {i * j}\\t\", end=\"\")\n",
    "    # Move to the next line after each row is printed\n",
    "    print()"
   ]
  },
  {
   "cell_type": "raw",
   "id": "c19b5409-398e-4a5b-bf09-45fa20b79348",
   "metadata": {},
   "source": []
  },
  {
   "cell_type": "code",
   "execution_count": 22,
   "id": "e79b62c1-6554-4768-b353-405bab903187",
   "metadata": {},
   "outputs": [
    {
     "ename": "SyntaxError",
     "evalue": "invalid syntax (278635897.py, line 1)",
     "output_type": "error",
     "traceback": [
      "\u001b[0;36m  Cell \u001b[0;32mIn[22], line 1\u001b[0;36m\u001b[0m\n\u001b[0;31m    python -m unittest test_assignment.py\u001b[0m\n\u001b[0m              ^\u001b[0m\n\u001b[0;31mSyntaxError\u001b[0m\u001b[0;31m:\u001b[0m invalid syntax\n"
     ]
    }
   ],
   "source": [
    "python -m unittest test_assignment.py"
   ]
  },
  {
   "cell_type": "code",
   "execution_count": null,
   "id": "804eb483-fb3a-47c3-a9e3-53294860e602",
   "metadata": {},
   "outputs": [],
   "source": []
  }
 ],
 "metadata": {
  "kernelspec": {
   "display_name": "Python [conda env:base] *",
   "language": "python",
   "name": "conda-base-py"
  },
  "language_info": {
   "codemirror_mode": {
    "name": "ipython",
    "version": 3
   },
   "file_extension": ".py",
   "mimetype": "text/x-python",
   "name": "python",
   "nbconvert_exporter": "python",
   "pygments_lexer": "ipython3",
   "version": "3.12.7"
  }
 },
 "nbformat": 4,
 "nbformat_minor": 5
}
