{
 "cells": [
  {
   "cell_type": "markdown",
   "id": "6a64ba01-fd18-44ae-bd82-d9f069000a5e",
   "metadata": {},
   "source": [
    "### Task 1"
   ]
  },
  {
   "cell_type": "code",
   "execution_count": 8,
   "id": "21f0e2ab-3974-4f55-8b0d-4e33ae3be858",
   "metadata": {},
   "outputs": [],
   "source": [
    "# Task 1: while loop\n",
    "def while_loop():\n",
    "    number = 0\n",
    "    while number <= 20:\n",
    "        if number % 2 == 0:\n",
    "            print(number)\n",
    "        if number == 16: \n",
    "            break\n",
    "        number += 1"
   ]
  },
  {
   "cell_type": "markdown",
   "id": "f545f956-5414-4758-b0af-4d9c98213d94",
   "metadata": {},
   "source": [
    "### Task 2"
   ]
  },
  {
   "cell_type": "code",
   "execution_count": 9,
   "id": "015699ea-2113-4be0-a3b3-583295833047",
   "metadata": {},
   "outputs": [],
   "source": [
    "# Task 2: for loop with continue\n",
    "def for_loop_continue():\n",
    "    \n",
    "    for num in range(1, 16):\n",
    "        if num % 3 == 0:  # Skip numbers divisible by 3\n",
    "            continue\n",
    "        print(num)"
   ]
  },
  {
   "cell_type": "markdown",
   "id": "0c9f62d3-e6b4-41e2-887e-c24a2c115287",
   "metadata": {},
   "source": [
    "### Task 3"
   ]
  },
  {
   "cell_type": "code",
   "execution_count": 10,
   "id": "f8b823d8-0993-41c6-93f2-5238521a8bb6",
   "metadata": {},
   "outputs": [],
   "source": [
    "# Task 3: if-else statement\n",
    "def number_classification():\n",
    "    number = int(input(\"Enter a number: \"))\n",
    "    if number == 0:\n",
    "        print(\"zero\")\n",
    "    elif number < 0:\n",
    "        print(\"negative\")\n",
    "    else:\n",
    "        print(\"positive\")"
   ]
  },
  {
   "cell_type": "markdown",
   "id": "f82cfb5d-ffa5-4f5d-aaa8-f9cc65ec533c",
   "metadata": {},
   "source": [
    "### Task 4"
   ]
  },
  {
   "cell_type": "code",
   "execution_count": 19,
   "id": "4f7aa490",
   "metadata": {},
   "outputs": [],
   "source": [
    "# Task 4: Nested loops\n",
    "def multiplication_table():\n",
    "    for i in range(1, 6):  # Outer loop for numbers 1 to 5\n",
    "        for j in range(1, 6):  # Inner loop for multipliers 1 to 5\n",
    "            print(f\"{i} x {j} = {i * j}\")\n",
    "\n",
    "def test_multiplication_table(capsys):\n",
    "    \"\"\"Test nested loops multiplication table\"\"\"\n",
    "    multiplication_table()\n",
    "    captured = capsys.readouterr().out.strip().split('\\n')\n",
    "    \n",
    "    # Check total number of lines (5x5 = 25 lines)\n",
    "    assert len(captured) == 25, \"Incorrect number of multiplication table rows\""
   ]
  },
  {
   "cell_type": "code",
   "execution_count": null,
   "id": "74d4a58e",
   "metadata": {},
   "outputs": [],
   "source": []
  }
 ],
 "metadata": {
  "kernelspec": {
   "display_name": "Python 3",
   "language": "python",
   "name": "python3"
  },
  "language_info": {
   "codemirror_mode": {
    "name": "ipython",
    "version": 3
   },
   "file_extension": ".py",
   "mimetype": "text/x-python",
   "name": "python",
   "nbconvert_exporter": "python",
   "pygments_lexer": "ipython3",
   "version": "3.13.1"
  }
 },
 "nbformat": 4,
 "nbformat_minor": 5
}
